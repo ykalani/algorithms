{
 "cells": [
  {
   "cell_type": "markdown",
   "metadata": {
    "id": "kpdnhHjNhyx5"
   },
   "source": [
    "# Day 12 Pre-class: Introduction to Data Wrangling"
   ]
  },
  {
   "cell_type": "markdown",
   "metadata": {},
   "source": [
    "<p style=\"text-align: right;\"> &#9989; Put your name here</p> Yash Kalani"
   ]
  },
  {
   "cell_type": "markdown",
   "metadata": {
    "id": "kpdnhHjNhyx5"
   },
   "source": [
    "### Learning Objective:\n",
    "Search for, locate, and contextualize data sets from the internet and develop troubleshooting methods for loading data sets into Jupyter notebook. \n",
    "\n",
    "In this assignment you will:\n",
    "* Discuss the impact of data context\n",
    "* Experiment with some of the ways you can load data into a Jupyter notebook\n",
    "* Identify the arguments needed for different ways to load data\n",
    "* Practice loading a data file in need of wrangling"
   ]
  },
  {
   "cell_type": "markdown",
   "metadata": {},
   "source": [
    "**This assignment is due by 11:59 p.m. the day before class,** and should be uploaded into the appropriate \"Pre-Class Assignments\" submission folder on D2L.  Submission instructions can be found at the end of the notebook."
   ]
  },
  {
   "cell_type": "markdown",
   "metadata": {
    "id": "uEK7LPbqK-E_"
   },
   "source": [
    "---\n",
    "## Part 1: Contexting our Discussion\n",
    "\n",
    "Before we dive deeper into where to find data and how to get it in a form that is usable in your notebooks, we first want to build some context for why data sources matter.\n",
    "\n",
    "Read the sections titled **Raw Data, Cooked Data, Cooking** and **Consider Context** from *Chapter 6. The Numbers Don't Speak for Themselves* located [HERE](https://data-feminism.mitpress.mit.edu/pub/czq9dfs5/release/3).  This is from the book *Data Feminism* by Catherine D'Ignazio and Lauren F. Klein.  Then, **answer the following questions in the cell below:**\n",
    "\n",
    "1. What are some ways we can identify the complexity of what data sets actually represent?\n",
    "2. Identify some places in CMSE 201 so far that data context was or would be impactful.\n",
    "3. Thinking about your personal ethics as someone developing data analysis skills, what ideas would you want to carry forward from this reading into your approach to working with data? \n",
    "\n",
    "**NOTE:** We recognize that your personal views may not completely align with those of the authors. We are not asking you to agree with everything, but we do want you to glean insights that make your data analysis efforts more impactful, regardless of the context or application. By digesting multiple perspectives and approaches to data analysis and visualization, we can strive to make our work as high quality as possible."
   ]
  },
  {
   "cell_type": "markdown",
   "metadata": {
    "id": "UEGs5LPnN5bI"
   },
   "source": [
    "1. The data that is impactful is through trustworthy sources that can be clearly filtered and interpreted. \n",
    "2. Data context would be useful when knowing the full context or the issue of the problem like in the flint water crisis\n",
    "3. Making sure the data is clean and representative not just massive, this will lead into more accurate data analysis. "
   ]
  },
  {
   "cell_type": "markdown",
   "metadata": {
    "id": "fPZB_vWDN_K9"
   },
   "source": [
    "## Part 2: Finding Data\n",
    "\n",
    "Below are a few places (among many!) to find data sets. Choose three data sets (without worrying about if they are \"good\" or not) and download them.  In the cell below, paste links to the files.\n",
    "\n",
    "Sites:\n",
    "\n",
    "http://www.data.gov/ \n",
    "\n",
    "http://data.michigan.gov/ \n",
    "\n",
    "http://kaggle.com/ "
   ]
  },
  {
   "cell_type": "markdown",
   "metadata": {
    "id": "A_xudkE_Yki_"
   },
   "source": [
    "LINKS HERE:\n",
    "\n",
    "1.https://catalog.data.gov/dataset/electric-vehicle-population-data\n",
    "\n",
    "2.https://catalog.data.gov/dataset/lottery-powerball-winning-numbers-beginning-2010\n",
    "\n",
    "3.https://catalog.data.gov/dataset/lottery-powerball-winning-numbers-beginning-2010\n"
   ]
  },
  {
   "cell_type": "markdown",
   "metadata": {
    "id": "BIbJsyceYykV"
   },
   "source": [
    "## Part 3: Loading and Contexting Data\n",
    "\n",
    "Watch the video below to see some of the  ways we can load data into Jupyter notebooks! Then answer the questions below."
   ]
  },
  {
   "cell_type": "code",
   "execution_count": 1,
   "metadata": {},
   "outputs": [
    {
     "data": {
      "image/jpeg": "[encoded data removed]",
      "text/html": [
       "\n",
       "        <iframe\n",
       "            width=\"640\"\n",
       "            height=\"360\"\n",
       "            src=\"https://www.youtube.com/embed/KxBgGdDP95Y\"\n",
       "            frameborder=\"0\"\n",
       "            allowfullscreen\n",
       "            \n",
       "        ></iframe>\n",
       "        "
      ],
      "text/plain": [
       "<IPython.lib.display.YouTubeVideo at 0x73e1341f80b0>"
      ]
     },
     "execution_count": 1,
     "metadata": {},
     "output_type": "execute_result"
    }
   ],
   "source": [
    "from IPython.display import YouTubeVideo\n",
    "YouTubeVideo(\"KxBgGdDP95Y\",width=640,height=360)"
   ]
  },
  {
   "cell_type": "markdown",
   "metadata": {
    "id": "BZtyi8CHalSV"
   },
   "source": [
    "1. In the cell below, include links to the package documentation for the different options mentioned in the video.\n",
    "\n",
    "2. What are some of the common arguments used when loading in data files?\n",
    "\n",
    "3. What are some common challenges you might run into when loading in data files? What challenges have you already run into?"
   ]
  },
  {
   "cell_type": "markdown",
   "metadata": {
    "id": "9V6giPOka_sx"
   },
   "source": [
    "<font size=+3>&#9998;</font> *Put your answers here.*\n",
    "\n",
    "1.)I need to load data so I will use pd.readcsv()\n",
    "\n",
    "2.)readcsv to load the data and the variable.head() to display how the first few rows look like \n",
    "\n",
    "3.) making sure the data will be formatted correctly, or formatting the data to the wanted standard. \n",
    "\n"
   ]
  },
  {
   "cell_type": "markdown",
   "metadata": {
    "id": "fawb0EP-bGyT"
   },
   "source": [
    "In previous assignments, we have loaded data that is ready to use with tools like `numpy` and `pandas`. In the cell below, choose one of your data sets and try to read it in with no additional arguments. Then answer the questions below."
   ]
  },
  {
   "cell_type": "code",
   "execution_count": 6,
   "metadata": {
    "id": "KAV1S1SBaKLV"
   },
   "outputs": [
    {
     "data": {
      "text/html": [
       "<div>\n",
       "<style scoped>\n",
       "    .dataframe tbody tr th:only-of-type {\n",
       "        vertical-align: middle;\n",
       "    }\n",
       "\n",
       "    .dataframe tbody tr th {\n",
       "        vertical-align: top;\n",
       "    }\n",
       "\n",
       "    .dataframe thead th {\n",
       "        text-align: right;\n",
       "    }\n",
       "</style>\n",
       "<table border=\"1\" class=\"dataframe\">\n",
       "  <thead>\n",
       "    <tr style=\"text-align: right;\">\n",
       "      <th></th>\n",
       "      <th>Draw Date</th>\n",
       "      <th>Winning Numbers</th>\n",
       "      <th>Multiplier</th>\n",
       "    </tr>\n",
       "  </thead>\n",
       "  <tbody>\n",
       "    <tr>\n",
       "      <th>0</th>\n",
       "      <td>09/26/2020</td>\n",
       "      <td>11 21 27 36 62 24</td>\n",
       "      <td>3.0</td>\n",
       "    </tr>\n",
       "    <tr>\n",
       "      <th>1</th>\n",
       "      <td>09/30/2020</td>\n",
       "      <td>14 18 36 49 67 18</td>\n",
       "      <td>2.0</td>\n",
       "    </tr>\n",
       "    <tr>\n",
       "      <th>2</th>\n",
       "      <td>10/03/2020</td>\n",
       "      <td>18 31 36 43 47 20</td>\n",
       "      <td>2.0</td>\n",
       "    </tr>\n",
       "    <tr>\n",
       "      <th>3</th>\n",
       "      <td>10/07/2020</td>\n",
       "      <td>06 24 30 53 56 19</td>\n",
       "      <td>2.0</td>\n",
       "    </tr>\n",
       "    <tr>\n",
       "      <th>4</th>\n",
       "      <td>10/10/2020</td>\n",
       "      <td>05 18 23 40 50 18</td>\n",
       "      <td>3.0</td>\n",
       "    </tr>\n",
       "  </tbody>\n",
       "</table>\n",
       "</div>"
      ],
      "text/plain": [
       "    Draw Date    Winning Numbers  Multiplier\n",
       "0  09/26/2020  11 21 27 36 62 24         3.0\n",
       "1  09/30/2020  14 18 36 49 67 18         2.0\n",
       "2  10/03/2020  18 31 36 43 47 20         2.0\n",
       "3  10/07/2020  06 24 30 53 56 19         2.0\n",
       "4  10/10/2020  05 18 23 40 50 18         3.0"
      ]
     },
     "execution_count": 6,
     "metadata": {},
     "output_type": "execute_result"
    }
   ],
   "source": [
    "# put your code here\n",
    "import pandas as pd\n",
    "\n",
    "lotto_nums = pd.read_csv(\"Lottery_Powerball_Winning_Numbers__Beginning_2010.csv\")\n",
    "\n",
    "lotto_nums.head()"
   ]
  },
  {
   "cell_type": "markdown",
   "metadata": {
    "id": "STjptw4Tblvp"
   },
   "source": [
    "### &#9989; Question\n",
    "\n",
    "1. If your data was read in, what does it look like when you view it in the notebook? Is it in a usable form?\n",
    "\n",
    "2. If your data was not read in, what bugs do you see, how might you address them?\n"
   ]
  },
  {
   "cell_type": "markdown",
   "metadata": {
    "id": "YrfFO9n5cCnA"
   },
   "source": [
    "<font size=+3>&#9998;</font> *Put your answers here.*\n",
    "\n",
    "yeah it loaded in in a usable form "
   ]
  },
  {
   "cell_type": "markdown",
   "metadata": {
    "id": "7AWRSWpicJgf"
   },
   "source": [
    "### &#9989; Let's try again! \n",
    "\n",
    "If your data was not read in properly above, try adjusting your arguments and see if you can get it loaded in. \n",
    "\n",
    "If your data was read in properly, try an additional data set here!"
   ]
  },
  {
   "cell_type": "code",
   "execution_count": 9,
   "metadata": {
    "id": "HeiMgkVRbkmO"
   },
   "outputs": [
    {
     "data": {
      "text/html": [
       "<div>\n",
       "<style scoped>\n",
       "    .dataframe tbody tr th:only-of-type {\n",
       "        vertical-align: middle;\n",
       "    }\n",
       "\n",
       "    .dataframe tbody tr th {\n",
       "        vertical-align: top;\n",
       "    }\n",
       "\n",
       "    .dataframe thead th {\n",
       "        text-align: right;\n",
       "    }\n",
       "</style>\n",
       "<table border=\"1\" class=\"dataframe\">\n",
       "  <thead>\n",
       "    <tr style=\"text-align: right;\">\n",
       "      <th></th>\n",
       "      <th>VIN (1-10)</th>\n",
       "      <th>County</th>\n",
       "      <th>City</th>\n",
       "      <th>State</th>\n",
       "      <th>Postal Code</th>\n",
       "      <th>Model Year</th>\n",
       "      <th>Make</th>\n",
       "      <th>Model</th>\n",
       "      <th>Electric Vehicle Type</th>\n",
       "      <th>Clean Alternative Fuel Vehicle (CAFV) Eligibility</th>\n",
       "      <th>Electric Range</th>\n",
       "      <th>Base MSRP</th>\n",
       "      <th>Legislative District</th>\n",
       "      <th>DOL Vehicle ID</th>\n",
       "      <th>Vehicle Location</th>\n",
       "      <th>Electric Utility</th>\n",
       "      <th>2020 Census Tract</th>\n",
       "    </tr>\n",
       "  </thead>\n",
       "  <tbody>\n",
       "    <tr>\n",
       "      <th>0</th>\n",
       "      <td>JTDKN3DP2D</td>\n",
       "      <td>Yakima</td>\n",
       "      <td>Yakima</td>\n",
       "      <td>WA</td>\n",
       "      <td>98902.0</td>\n",
       "      <td>2013</td>\n",
       "      <td>TOYOTA</td>\n",
       "      <td>PRIUS</td>\n",
       "      <td>Plug-in Hybrid Electric Vehicle (PHEV)</td>\n",
       "      <td>Not eligible due to low battery range</td>\n",
       "      <td>6.0</td>\n",
       "      <td>0.0</td>\n",
       "      <td>15.0</td>\n",
       "      <td>165252538</td>\n",
       "      <td>POINT (-120.51904 46.59783)</td>\n",
       "      <td>PACIFICORP</td>\n",
       "      <td>5.307700e+10</td>\n",
       "    </tr>\n",
       "    <tr>\n",
       "      <th>1</th>\n",
       "      <td>1FMCU0E1XS</td>\n",
       "      <td>Kitsap</td>\n",
       "      <td>Port Orchard</td>\n",
       "      <td>WA</td>\n",
       "      <td>98366.0</td>\n",
       "      <td>2025</td>\n",
       "      <td>FORD</td>\n",
       "      <td>ESCAPE</td>\n",
       "      <td>Plug-in Hybrid Electric Vehicle (PHEV)</td>\n",
       "      <td>Clean Alternative Fuel Vehicle Eligible</td>\n",
       "      <td>37.0</td>\n",
       "      <td>0.0</td>\n",
       "      <td>26.0</td>\n",
       "      <td>278572521</td>\n",
       "      <td>POINT (-122.63847 47.54103)</td>\n",
       "      <td>PUGET SOUND ENERGY INC</td>\n",
       "      <td>5.303509e+10</td>\n",
       "    </tr>\n",
       "    <tr>\n",
       "      <th>2</th>\n",
       "      <td>JM3KKBHA9R</td>\n",
       "      <td>Kitsap</td>\n",
       "      <td>Kingston</td>\n",
       "      <td>WA</td>\n",
       "      <td>98346.0</td>\n",
       "      <td>2024</td>\n",
       "      <td>MAZDA</td>\n",
       "      <td>CX-90</td>\n",
       "      <td>Plug-in Hybrid Electric Vehicle (PHEV)</td>\n",
       "      <td>Not eligible due to low battery range</td>\n",
       "      <td>26.0</td>\n",
       "      <td>0.0</td>\n",
       "      <td>23.0</td>\n",
       "      <td>275123642</td>\n",
       "      <td>POINT (-122.4977 47.79802)</td>\n",
       "      <td>PUGET SOUND ENERGY INC</td>\n",
       "      <td>5.303509e+10</td>\n",
       "    </tr>\n",
       "    <tr>\n",
       "      <th>3</th>\n",
       "      <td>7SAYGDEE8P</td>\n",
       "      <td>Thurston</td>\n",
       "      <td>Olympia</td>\n",
       "      <td>WA</td>\n",
       "      <td>98501.0</td>\n",
       "      <td>2023</td>\n",
       "      <td>TESLA</td>\n",
       "      <td>MODEL Y</td>\n",
       "      <td>Battery Electric Vehicle (BEV)</td>\n",
       "      <td>Eligibility unknown as battery range has not b...</td>\n",
       "      <td>0.0</td>\n",
       "      <td>0.0</td>\n",
       "      <td>35.0</td>\n",
       "      <td>249569323</td>\n",
       "      <td>POINT (-122.89165 47.03954)</td>\n",
       "      <td>PUGET SOUND ENERGY INC</td>\n",
       "      <td>5.306701e+10</td>\n",
       "    </tr>\n",
       "    <tr>\n",
       "      <th>4</th>\n",
       "      <td>5YJ3E1EB5K</td>\n",
       "      <td>Thurston</td>\n",
       "      <td>Rainier</td>\n",
       "      <td>WA</td>\n",
       "      <td>98576.0</td>\n",
       "      <td>2019</td>\n",
       "      <td>TESLA</td>\n",
       "      <td>MODEL 3</td>\n",
       "      <td>Battery Electric Vehicle (BEV)</td>\n",
       "      <td>Clean Alternative Fuel Vehicle Eligible</td>\n",
       "      <td>220.0</td>\n",
       "      <td>0.0</td>\n",
       "      <td>20.0</td>\n",
       "      <td>283135107</td>\n",
       "      <td>POINT (-122.68993 46.88897)</td>\n",
       "      <td>PUGET SOUND ENERGY INC</td>\n",
       "      <td>5.306701e+10</td>\n",
       "    </tr>\n",
       "  </tbody>\n",
       "</table>\n",
       "</div>"
      ],
      "text/plain": [
       "   VIN (1-10)    County          City State  Postal Code  Model Year    Make  \\\n",
       "0  JTDKN3DP2D    Yakima        Yakima    WA      98902.0        2013  TOYOTA   \n",
       "1  1FMCU0E1XS    Kitsap  Port Orchard    WA      98366.0        2025    FORD   \n",
       "2  JM3KKBHA9R    Kitsap      Kingston    WA      98346.0        2024   MAZDA   \n",
       "3  7SAYGDEE8P  Thurston       Olympia    WA      98501.0        2023   TESLA   \n",
       "4  5YJ3E1EB5K  Thurston       Rainier    WA      98576.0        2019   TESLA   \n",
       "\n",
       "     Model                   Electric Vehicle Type  \\\n",
       "0    PRIUS  Plug-in Hybrid Electric Vehicle (PHEV)   \n",
       "1   ESCAPE  Plug-in Hybrid Electric Vehicle (PHEV)   \n",
       "2    CX-90  Plug-in Hybrid Electric Vehicle (PHEV)   \n",
       "3  MODEL Y          Battery Electric Vehicle (BEV)   \n",
       "4  MODEL 3          Battery Electric Vehicle (BEV)   \n",
       "\n",
       "   Clean Alternative Fuel Vehicle (CAFV) Eligibility  Electric Range  \\\n",
       "0              Not eligible due to low battery range             6.0   \n",
       "1            Clean Alternative Fuel Vehicle Eligible            37.0   \n",
       "2              Not eligible due to low battery range            26.0   \n",
       "3  Eligibility unknown as battery range has not b...             0.0   \n",
       "4            Clean Alternative Fuel Vehicle Eligible           220.0   \n",
       "\n",
       "   Base MSRP  Legislative District  DOL Vehicle ID  \\\n",
       "0        0.0                  15.0       165252538   \n",
       "1        0.0                  26.0       278572521   \n",
       "2        0.0                  23.0       275123642   \n",
       "3        0.0                  35.0       249569323   \n",
       "4        0.0                  20.0       283135107   \n",
       "\n",
       "              Vehicle Location        Electric Utility  2020 Census Tract  \n",
       "0  POINT (-120.51904 46.59783)              PACIFICORP       5.307700e+10  \n",
       "1  POINT (-122.63847 47.54103)  PUGET SOUND ENERGY INC       5.303509e+10  \n",
       "2   POINT (-122.4977 47.79802)  PUGET SOUND ENERGY INC       5.303509e+10  \n",
       "3  POINT (-122.89165 47.03954)  PUGET SOUND ENERGY INC       5.306701e+10  \n",
       "4  POINT (-122.68993 46.88897)  PUGET SOUND ENERGY INC       5.306701e+10  "
      ]
     },
     "execution_count": 9,
     "metadata": {},
     "output_type": "execute_result"
    }
   ],
   "source": [
    "# put your code here\n",
    "import pandas as pd\n",
    "\n",
    "ev = pd.read_csv(\"Electric_Vehicle_Population_Data.csv\")\n",
    "\n",
    "ev.head()\n",
    "\n",
    "\n",
    "# it worked again"
   ]
  },
  {
   "cell_type": "markdown",
   "metadata": {
    "id": "xzP03HJHc5an"
   },
   "source": [
    "## &#9989; Reflecting\n",
    "\n",
    "1. What arguments did you use to read in your data?\n",
    "2. What steps did you need to take to figure out how to read in your data?"
   ]
  },
  {
   "cell_type": "markdown",
   "metadata": {
    "id": "1F-ctB9ldUYs"
   },
   "source": [
    "<font size=+3>&#9998;</font> *Put your answers here.*\n",
    "\n",
    "pd.read_csv(\"file name\") "
   ]
  },
  {
   "cell_type": "markdown",
   "metadata": {
    "id": "JloE8dZTdYkB"
   },
   "source": [
    "### &#9989; Contexting your Data Set\n",
    "\n",
    "Choose one of the three data sets you identified, and do your best to answer the following questions for that data set:\n",
    "\n",
    "1. Who collected/generated the data?\n",
    "2. How was the data collected/generated?\n",
    "3. Who/what is included in the data?\n",
    "4. Who/what is **not** included in the data?\n",
    "5. What are the limitations or biases of the data?\n",
    "\n",
    "**Note:** If the information is not available to answer the questions above, that is your answer! You may need to do some additional searching about the data beyond the source you downloaded it from as well."
   ]
  },
  {
   "cell_type": "markdown",
   "metadata": {
    "id": "tiF4Z1EMequ5"
   },
   "source": [
    "<font size=+3>&#9998;</font> *Put your answer here.*\n",
    "\n",
    "1.) state of washington\n",
    "2.) through census and vehicle registration\n",
    "3.) data of car and make, location and id , utility, and ev type and if it was clean \n",
    "4.) people confidential information \n",
    "5.) not refreshable and up to date (from 2020) "
   ]
  },
  {
   "cell_type": "markdown",
   "metadata": {},
   "source": [
    "---\n",
    "### Assignment wrap-up\n",
    "\n",
    "Please fill out the form that appears when you run the code below.  **You must completely fill this out in order to receive credit for the assignment!** Press \"shift + enter\" to execute the cell and bring up the assignment survey."
   ]
  },
  {
   "cell_type": "code",
   "execution_count": 10,
   "metadata": {},
   "outputs": [
    {
     "data": {
      "text/html": [
       "\n",
       "<iframe \n",
       "\tsrc=\"https://cmse.msu.edu/cmse201-pc-survey\" \n",
       "\twidth=\"800px\" \n",
       "\theight=\"600px\" \n",
       "\tframeborder=\"0\" \n",
       "\tmarginheight=\"0\" \n",
       "\tmarginwidth=\"0\">\n",
       "\tLoading...\n",
       "</iframe>\n"
      ],
      "text/plain": [
       "<IPython.core.display.HTML object>"
      ]
     },
     "execution_count": 10,
     "metadata": {},
     "output_type": "execute_result"
    }
   ],
   "source": [
    "from IPython.display import HTML\n",
    "HTML(\n",
    "\"\"\"\n",
    "<iframe \n",
    "\tsrc=\"https://cmse.msu.edu/cmse201-pc-survey\" \n",
    "\twidth=\"800px\" \n",
    "\theight=\"600px\" \n",
    "\tframeborder=\"0\" \n",
    "\tmarginheight=\"0\" \n",
    "\tmarginwidth=\"0\">\n",
    "\tLoading...\n",
    "</iframe>\n",
    "\"\"\"\n",
    ")"
   ]
  },
  {
   "cell_type": "markdown",
   "metadata": {},
   "source": [
    "Acknowledgements: This assignment originally designed by Dr. Rachel L.S. Frisbie as part of the MSU STEM Teaching and Learning Fellowship and updated for broad implementation with CMSE Graduate Students Emily Bolger and Rachel Roca."
   ]
  },
  {
   "cell_type": "markdown",
   "metadata": {},
   "source": [
    "### Congratulations, you're done!\n",
    "\n",
    "Submit this assignment by uploading it to the course Desire2Learn web page.  Go to the \"Pre-class assignments\" folder, find the appropriate submission folder link, and upload it there.\n",
    "\n",
    "See you in class!"
   ]
  },
  {
   "cell_type": "markdown",
   "metadata": {},
   "source": [
    "&#169; Copyright 2025, Department of Computational Mathematics, Science and Engineering at Michigan State University."
   ]
  }
 ],
 "metadata": {
  "colab": {
   "provenance": []
  },
  "kernelspec": {
   "display_name": "Python 3.12 (default)",
   "language": "python",
   "name": "python3"
  },
  "language_info": {
   "codemirror_mode": {
    "name": "ipython",
    "version": 3
   },
   "file_extension": ".py",
   "mimetype": "text/x-python",
   "name": "python",
   "nbconvert_exporter": "python",
   "pygments_lexer": "ipython3",
   "version": "3.12.11"
  }
 },
 "nbformat": 4,
 "nbformat_minor": 4
}
