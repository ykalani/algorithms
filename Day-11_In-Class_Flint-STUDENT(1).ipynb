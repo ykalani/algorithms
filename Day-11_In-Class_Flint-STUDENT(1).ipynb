{
 "cells": [
  {
   "cell_type": "markdown",
   "id": "f785c2ce",
   "metadata": {},
   "source": [
    "# Day 11 In-class Assignment: Get the Lead Out: Understanding The Water Crisis in Flint, MI"
   ]
  },
  {
   "cell_type": "markdown",
   "id": "35fd0ecc-5418-4c7c-8623-54d8600aa848",
   "metadata": {},
   "source": [
    "### <p style=\"text-align: right;\"> &#9989; Put your name here.</p> Yash Kalani\n",
    "\n",
    "#### <p style=\"text-align: right;\"> &#9989; Put your group member names here.</p>  Tiff, Tre, Sussana "
   ]
  },
  {
   "cell_type": "markdown",
   "id": "c7e0fdbd-913c-49d7-bf08-a0b5f839d128",
   "metadata": {},
   "source": [
    "<div align=\"center\"><img src=\"https://assets1.cbsnewsstatic.com/hub/i/r/2017/09/21/d348dfb2-b44c-49de-95c5-893fdf143ce6/thumbnail/620x349/d43e72275d7f4c4966124cfd9e66e22a/0921-eve-flinthearing-reynolds.jpg\" width=600px></div>\n"
   ]
  },
  {
   "cell_type": "markdown",
   "id": "8e3d5350-cabb-4433-9c36-aa41dcc673dd",
   "metadata": {},
   "source": [
    "## Learning Goals:\n",
    "\n",
    "By the end of this assignment you should be able to:\n",
    "* Use Pandas to filter data to select particular subsets of interest\n",
    "* Articulate, based on your own perception, what you thinks makes a data visualization \"good\" versus \"bad\"\n",
    "* Use data to support a claim or make an argument"
   ]
  },
  {
   "cell_type": "markdown",
   "id": "4b7e6f52-94e3-49ff-8be9-c1da9cf5f63d",
   "metadata": {},
   "source": [
    "## Assignment instructions\n",
    "\n",
    "Work with your group to complete this assignment. Instructions for submitting this assignment are at the end of the notebook. The assignment is due at the end of class."
   ]
  },
  {
   "cell_type": "markdown",
   "id": "f33adaae-175a-4de0-bd28-f57d8350f905",
   "metadata": {},
   "source": [
    "---\n",
    "# Background and motivation\n",
    "\n",
    "Today we want you to think about what the data is telling you, but still use coding to help you; and, use some of the visualization ideas you explored above. We'll be looking at the publicly released [Flint Water Quality dataset](http://flintwaterstudy.org/2015/12/complete-dataset-lead-results-in-tap-water-for-271-flint-samples/). The water testing method involves collecting three different bottles worth of water.\n",
    "\n",
    "**Review the properties of the data, read the descriptions of the data fields, and review what the Evironmental Protection Agency (EPA) limits are on lead in water supplies.**"
   ]
  },
  {
   "cell_type": "code",
   "execution_count": 1,
   "id": "5603307b-fef8-4572-9143-1fb0310c9141",
   "metadata": {},
   "outputs": [],
   "source": [
    "import matplotlib.pyplot as plt\n",
    "\n",
    "import numpy as np\n",
    "import pandas as pd\n",
    "\n",
    "# Loading the data\n",
    "flint_data = pd.read_csv('flint_water_data.csv')"
   ]
  },
  {
   "cell_type": "markdown",
   "id": "c1a0e9f6",
   "metadata": {},
   "source": [
    "Double-check that your data loaded correctly by displaying the first first lines."
   ]
  },
  {
   "cell_type": "code",
   "execution_count": 3,
   "id": "18e59374",
   "metadata": {},
   "outputs": [
    {
     "data": {
      "text/html": [
       "<div>\n",
       "<style scoped>\n",
       "    .dataframe tbody tr th:only-of-type {\n",
       "        vertical-align: middle;\n",
       "    }\n",
       "\n",
       "    .dataframe tbody tr th {\n",
       "        vertical-align: top;\n",
       "    }\n",
       "\n",
       "    .dataframe thead th {\n",
       "        text-align: right;\n",
       "    }\n",
       "</style>\n",
       "<table border=\"1\" class=\"dataframe\">\n",
       "  <thead>\n",
       "    <tr style=\"text-align: right;\">\n",
       "      <th></th>\n",
       "      <th>SampleID</th>\n",
       "      <th>Zip Code</th>\n",
       "      <th>Ward</th>\n",
       "      <th>PbBottle1_ppb</th>\n",
       "      <th>PbBottle2_ppb</th>\n",
       "      <th>PbBottle3_ppb</th>\n",
       "      <th>Notes</th>\n",
       "    </tr>\n",
       "  </thead>\n",
       "  <tbody>\n",
       "    <tr>\n",
       "      <th>0</th>\n",
       "      <td>1</td>\n",
       "      <td>48504</td>\n",
       "      <td>6</td>\n",
       "      <td>0.344</td>\n",
       "      <td>0.226</td>\n",
       "      <td>0.145</td>\n",
       "      <td>NaN</td>\n",
       "    </tr>\n",
       "    <tr>\n",
       "      <th>1</th>\n",
       "      <td>2</td>\n",
       "      <td>48507</td>\n",
       "      <td>9</td>\n",
       "      <td>8.133</td>\n",
       "      <td>10.770</td>\n",
       "      <td>2.761</td>\n",
       "      <td>NaN</td>\n",
       "    </tr>\n",
       "    <tr>\n",
       "      <th>2</th>\n",
       "      <td>4</td>\n",
       "      <td>48504</td>\n",
       "      <td>1</td>\n",
       "      <td>1.111</td>\n",
       "      <td>0.110</td>\n",
       "      <td>0.123</td>\n",
       "      <td>NaN</td>\n",
       "    </tr>\n",
       "    <tr>\n",
       "      <th>3</th>\n",
       "      <td>5</td>\n",
       "      <td>48507</td>\n",
       "      <td>8</td>\n",
       "      <td>8.007</td>\n",
       "      <td>7.446</td>\n",
       "      <td>3.384</td>\n",
       "      <td>NaN</td>\n",
       "    </tr>\n",
       "    <tr>\n",
       "      <th>4</th>\n",
       "      <td>6</td>\n",
       "      <td>48505</td>\n",
       "      <td>3</td>\n",
       "      <td>1.951</td>\n",
       "      <td>0.048</td>\n",
       "      <td>0.035</td>\n",
       "      <td>NaN</td>\n",
       "    </tr>\n",
       "  </tbody>\n",
       "</table>\n",
       "</div>"
      ],
      "text/plain": [
       "   SampleID  Zip Code  Ward  PbBottle1_ppb  PbBottle2_ppb  PbBottle3_ppb Notes\n",
       "0         1     48504     6          0.344          0.226          0.145   NaN\n",
       "1         2     48507     9          8.133         10.770          2.761   NaN\n",
       "2         4     48504     1          1.111          0.110          0.123   NaN\n",
       "3         5     48507     8          8.007          7.446          3.384   NaN\n",
       "4         6     48505     3          1.951          0.048          0.035   NaN"
      ]
     },
     "execution_count": 3,
     "metadata": {},
     "output_type": "execute_result"
    }
   ],
   "source": [
    "# Put your code here\n",
    "\n",
    "flint_data.head()\n"
   ]
  },
  {
   "cell_type": "markdown",
   "id": "4ec214b7-7a8d-4c3c-82b0-c482ba6e50f1",
   "metadata": {},
   "source": [
    "#### Description of data fields in this data set:\n",
    "\n",
    "- *SampleID*: Unique study code for each sample\n",
    "- *Zip Code*: location where samples were collected\n",
    "- *Ward*: location where samples were collected\n",
    "- *PbBottle1_ppb*: Concentration of lead in parts per billion (ppb) in sample acquired at initial turn on of water\n",
    "- *PbBottle2_ppb*: Concentration of lead in parts per billion (ppb) in sample acquired after 45 seconds of flushing water\n",
    "- *PbBottle3_ppb*: Concentration of lead in parts per billion (ppb) in sample acquired after 120 seconds of flushing water\n",
    "\n",
    "\n",
    "#### EPA Limits (i.e. how does the EPA define unsafe lead levels in a water supply?)\n",
    "\n",
    "\n",
    "The U.S. Environmental Protection Agency (EPA) guidelines about lead contaminants state:\n",
    "\n",
    "> Lead and copper are regulated by a treatment technique that requires systems to control the corrosiveness of their water. **If more than 10% of tap water samples exceed the action level,** water systems must take additional steps. For copper, the action level is 1.3 mg/L (1300 ppb), and **for lead is 0.015 mg/L (15 ppb).** \n",
    ">\n",
    "> Source: (http://www.epa.gov/your-drinking-water/table-regulated-drinking-water-contaminants#seven). \n",
    "\n",
    "\n"
   ]
  },
  {
   "cell_type": "markdown",
   "id": "1aed7971-b9ce-45b5-8196-8f430573eab1",
   "metadata": {},
   "source": [
    "---\n",
    "## 1. Analysis Using Descriptive Statistics\n",
    "### 1.1\n",
    "#### &#9989;&nbsp; Use `describe()` function to determine the mean, standard deviation, min, median, and max of the first set of samples (`PbBottle1_ppb`). "
   ]
  },
  {
   "cell_type": "code",
   "execution_count": 18,
   "id": "10b093df-cc90-4c56-8fa3-56d6259e01a0",
   "metadata": {},
   "outputs": [
    {
     "name": "stdout",
     "output_type": "stream",
     "text": [
      "         SampleID      Zip Code        Ward  PbBottle1_ppb  PbBottle2_ppb  \\\n",
      "count  270.000000    270.000000  270.000000     270.000000     270.000000   \n",
      "mean   151.055556  48505.107407    5.325926      10.658593       6.446704   \n",
      "std     86.406624      3.119602    2.665572      21.599817      23.157891   \n",
      "min      1.000000  48502.000000    0.000000       0.344000       0.032000   \n",
      "25%     77.250000  48503.000000    3.000000       1.574500       0.457500   \n",
      "50%    149.500000  48505.000000    6.000000       3.502500       1.397500   \n",
      "75%    224.750000  48506.000000    8.000000       9.175000       4.720500   \n",
      "max    300.000000  48532.000000    9.000000     158.000000     259.800000   \n",
      "\n",
      "       PbBottle3_ppb  \n",
      "count     270.000000  \n",
      "mean        3.669344  \n",
      "std        10.557109  \n",
      "min         0.031000  \n",
      "25%         0.306000  \n",
      "50%         0.820000  \n",
      "75%         2.750750  \n",
      "max        94.520000  \n",
      "3.5025\n"
     ]
    }
   ],
   "source": [
    "# Write your code here\n",
    "print(flint_data.describe())\n",
    "\n",
    "print(flint_data[\"PbBottle1_ppb\"].median())\n"
   ]
  },
  {
   "cell_type": "markdown",
   "id": "5032024d-195e-403c-975d-043c9116cb43",
   "metadata": {},
   "source": [
    "### 1.2\n",
    "#### &#9989;&nbsp; From this information alone, can you determine if the water supply in Flint met the EPA standard?"
   ]
  },
  {
   "cell_type": "markdown",
   "id": "d3f9eab1-bc94-453f-a3c2-3e35696b5081",
   "metadata": {},
   "source": [
    "<font size=\"+3\" color=\"green\">&#9998;</font> *Write your answer here\n",
    "\n",
    "no we cant because the top 25% is at 9.17 which is below the 15 ppb threshold, since we dont have the top 10% we can't be sure what the water supply value. "
   ]
  },
  {
   "cell_type": "markdown",
   "id": "385d074d-21ea-4af3-b20d-0295668a7155",
   "metadata": {},
   "source": [
    "### 1.3\n",
    "#### &#9989;&nbsp; What is the median of this sample? How does it compare to the mean? Do you expect this sample to be close to a normal (Gaussian) distribution? (think back on your pre-class assignment about the properties of normal distributions)"
   ]
  },
  {
   "cell_type": "markdown",
   "id": "1dab7d68-ba14-47e8-9547-379ffbce29a9",
   "metadata": {},
   "source": [
    "<font size=\"+3\" color=\"green\">&#9998;</font> *Write your answer here*\n",
    "3.5025 median and 10.658 mean this means that dataset is skewed right and there are large outliers on the right"
   ]
  },
  {
   "cell_type": "markdown",
   "id": "8450a1cd-0186-495d-98d1-194f9ce81664",
   "metadata": {},
   "source": [
    "---\n",
    "## 2. Analysis Using Visualizations\n",
    "### 2.1\n",
    "\n",
    "#### &#9989;&nbsp; Make a histogram visualization of the distribution of the first set of samples (`PbBottle1_ppb`). Use the `axvline()` function to add a line showing where the EPA limit is. (You will may need to us google to remind yourself what this function does.)\n",
    "\n",
    "Also, make sure that your plot has x and y-axes labels and a title."
   ]
  },
  {
   "cell_type": "code",
   "execution_count": 19,
   "id": "ca2808b8-728f-4269-812a-71fc7d35f284",
   "metadata": {},
   "outputs": [
    {
     "data": {
      "image/png": "[encoded data removed]",
      "text/plain": [
       "<Figure size 800x600 with 1 Axes>"
      ]
     },
     "metadata": {},
     "output_type": "display_data"
    }
   ],
   "source": [
    "# Write your code here\n",
    "\n",
    "import matplotlib.pyplot as plt\n",
    "import pandas as pd\n",
    "\n",
    "# Convert column to numeric (in case there are strings like '*house sampled twice')\n",
    "flint_data[\"PbBottle1_ppb\"] = pd.to_numeric(flint_data[\"PbBottle1_ppb\"], errors=\"coerce\")\n",
    "\n",
    "# Plot histogram\n",
    "plt.figure(figsize=(8,6))\n",
    "plt.hist(flint_data[\"PbBottle1_ppb\"].dropna(), bins=30, edgecolor=\"black\")\n",
    "\n",
    "# Add EPA limit line at 15 ppb\n",
    "plt.axvline(x=15, color=\"red\", linestyle=\"--\", linewidth=2, label=\"EPA Action Level (15 ppb)\")\n",
    "\n",
    "# Labels and title\n",
    "plt.xlabel(\"Lead Concentration (ppb)\")\n",
    "plt.ylabel(\"Frequency\")\n",
    "plt.title(\"Distribution of Lead Levels in First Samples (PbBottle1_ppb)\")\n",
    "plt.legend()\n",
    "\n",
    "plt.show()\n"
   ]
  },
  {
   "cell_type": "markdown",
   "id": "63e8b81b-ad3d-42b6-949c-e089a2c57e0b",
   "metadata": {},
   "source": [
    "### 2.2\n",
    "#### &#9989;&nbsp; Does the distribution of samples look like a normal (Gaussian) distribution? Is that what you predicted based on your analysis of the descriptive statistics (Part 1.3)?"
   ]
  },
  {
   "cell_type": "markdown",
   "id": "10c89e5e-ddde-4720-a4e7-bdd690ddfb8b",
   "metadata": {},
   "source": [
    "<font size=\"+3\" color=\"green\">&#9998;</font> *Write your answer here*\n",
    "\n",
    "no it's not normal, yes i knew it was going to be skewed left"
   ]
  },
  {
   "cell_type": "markdown",
   "id": "6ae1fecc-45b4-4b09-986b-d1b442203cd4",
   "metadata": {},
   "source": [
    "### 2.3\n",
    "#### &#9989;&nbsp; Looking at this, there’s a big pile up of samples that are near or below the EPA limit, and it makes it hard to get a sense of what the full distribution looks like. Use `plt.yscale()` to make the y-axis logarithmic. "
   ]
  },
  {
   "cell_type": "code",
   "execution_count": 22,
   "id": "a5aa5b76-815f-4223-9950-943172a83341",
   "metadata": {},
   "outputs": [
    {
     "data": {
      "image/png": "[encoded data removed]",
      "text/plain": [
       "<Figure size 800x600 with 1 Axes>"
      ]
     },
     "metadata": {},
     "output_type": "display_data"
    }
   ],
   "source": [
    "# Write your code here\n",
    "# Write your code here\n",
    "\n",
    "import matplotlib.pyplot as plt\n",
    "import pandas as pd\n",
    "\n",
    "# Convert column to numeric (in case there are strings like '*house sampled twice')\n",
    "flint_data[\"PbBottle1_ppb\"] = pd.to_numeric(flint_data[\"PbBottle1_ppb\"], errors=\"coerce\")\n",
    "\n",
    "# Plot histogram\n",
    "plt.figure(figsize=(8,6))\n",
    "plt.hist(flint_data[\"PbBottle1_ppb\"].dropna(), bins=30, edgecolor=\"black\")\n",
    "\n",
    "# Add EPA limit line at 15 ppb\n",
    "plt.axvline(x=15, color=\"red\", linestyle=\"--\", linewidth=2, label=\"EPA Action Level (15 ppb)\")\n",
    "\n",
    "plt.yscale(\"log\")\n",
    "# Labels and title\n",
    "plt.xlabel(\"Lead Concentration (ppb)\")\n",
    "plt.ylabel(\"Frequency\")\n",
    "plt.title(\"Distribution of Lead Levels in First Samples (PbBottle1_ppb)\")\n",
    "plt.legend()\n",
    "\n",
    "plt.show()\n",
    "\n",
    "\n"
   ]
  },
  {
   "cell_type": "markdown",
   "id": "393d804c-c7c3-4e19-924e-e2ace1cc8378",
   "metadata": {},
   "source": [
    "### 2.4\n",
    "#### &#9989;&nbsp; As discussed in the pre-class, logarithmic scales allow us to get a better handle on distributions with a *large dynamic range*. Use your log plot estimate the number of samples that lie above the EPA limit by counting the number of samples that fall into the bins that are above the limit.\n",
    "\n",
    "What fraction of the total samples appear to fall above the EPA limit?"
   ]
  },
  {
   "cell_type": "markdown",
   "id": "7c5e8c0d-12d7-4ea8-ad78-f85d39f872f3",
   "metadata": {},
   "source": [
    "<font size=\"+3\" color=\"green\">&#9998;</font> *Write your answer here*\n",
    "\n",
    "about half of the samples"
   ]
  },
  {
   "cell_type": "markdown",
   "id": "c9e77432-fca4-42d5-84e9-e078ee4bec39",
   "metadata": {},
   "source": [
    "### 2.5\n",
    "#### &#9989;&nbsp; Based on this analysis, does it appear that the Flint samples met the EPA standards?"
   ]
  },
  {
   "cell_type": "markdown",
   "id": "32967e2b-e67b-4d18-b8bd-2974ee970211",
   "metadata": {},
   "source": [
    "<font size=\"+3\" color=\"green\">&#9998;</font> *Write your answer here*\n",
    "\n",
    "absolutely not its definetely over the limit\n"
   ]
  },
  {
   "cell_type": "markdown",
   "id": "2a14d1b1-5daa-4a8a-a73a-f78292511fd4",
   "metadata": {},
   "source": [
    "# STOP\n",
    "\n",
    "#### &#9989;&nbsp; Based on your analysis so far, answer the following question: ***Would you feel comfortable drinking a glass of water in Flint at the height of the water crisis?***"
   ]
  },
  {
   "cell_type": "markdown",
   "id": "7bfd5c30-8029-4f2d-8fc3-c1431f67d553",
   "metadata": {},
   "source": [
    "<font size=\"+3\" color=\"green\">&#9998;</font> *Write your answer here*\n",
    "\n",
    "No, I would not"
   ]
  },
  {
   "cell_type": "markdown",
   "id": "64dc4449-6a93-44dc-9acc-d50021eca058",
   "metadata": {},
   "source": [
    "---\n",
    "## 3. Analysis Using Masks\n",
    "\n",
    "In the previous part, you used descriptive statistics and a visualization to try to estimate the number of samples that fell above the EPA limit. Now we’re going to actually count the number that actually don’t meet the EPA regulation. \n",
    "\n",
    "### 3.1\n",
    "\n",
    "#### &#9989;&nbsp; Task\n",
    "First, let's step back from the Flint Water data and try a masking example. The cell below contains a small DataFrame with randomly generted data that is similar to the real data you are working with. Write some code that creates a mask on the `'test_bottle1'` column for values greater than 15 and print out that mask (you should see `True` where the condition is met and `False` where it isn't)."
   ]
  },
  {
   "cell_type": "code",
   "execution_count": 23,
   "id": "0d38b3f2-ac02-44fc-83b9-55c169dcdd35",
   "metadata": {},
   "outputs": [
    {
     "data": {
      "text/html": [
       "<div>\n",
       "<style scoped>\n",
       "    .dataframe tbody tr th:only-of-type {\n",
       "        vertical-align: middle;\n",
       "    }\n",
       "\n",
       "    .dataframe tbody tr th {\n",
       "        vertical-align: top;\n",
       "    }\n",
       "\n",
       "    .dataframe thead th {\n",
       "        text-align: right;\n",
       "    }\n",
       "</style>\n",
       "<table border=\"1\" class=\"dataframe\">\n",
       "  <thead>\n",
       "    <tr style=\"text-align: right;\">\n",
       "      <th></th>\n",
       "      <th>Zipcode</th>\n",
       "      <th>test_bottle1</th>\n",
       "      <th>test_bottle2</th>\n",
       "      <th>test_bottle3</th>\n",
       "    </tr>\n",
       "  </thead>\n",
       "  <tbody>\n",
       "    <tr>\n",
       "      <th>0</th>\n",
       "      <td>25687</td>\n",
       "      <td>12.16</td>\n",
       "      <td>7.15</td>\n",
       "      <td>24.66</td>\n",
       "    </tr>\n",
       "    <tr>\n",
       "      <th>1</th>\n",
       "      <td>27734</td>\n",
       "      <td>11.73</td>\n",
       "      <td>11.17</td>\n",
       "      <td>9.53</td>\n",
       "    </tr>\n",
       "    <tr>\n",
       "      <th>2</th>\n",
       "      <td>45253</td>\n",
       "      <td>18.20</td>\n",
       "      <td>11.93</td>\n",
       "      <td>23.46</td>\n",
       "    </tr>\n",
       "    <tr>\n",
       "      <th>3</th>\n",
       "      <td>23558</td>\n",
       "      <td>7.15</td>\n",
       "      <td>13.49</td>\n",
       "      <td>14.63</td>\n",
       "    </tr>\n",
       "    <tr>\n",
       "      <th>4</th>\n",
       "      <td>11378</td>\n",
       "      <td>8.91</td>\n",
       "      <td>7.51</td>\n",
       "      <td>2.02</td>\n",
       "    </tr>\n",
       "    <tr>\n",
       "      <th>5</th>\n",
       "      <td>94490</td>\n",
       "      <td>9.63</td>\n",
       "      <td>12.47</td>\n",
       "      <td>1.74</td>\n",
       "    </tr>\n",
       "    <tr>\n",
       "      <th>6</th>\n",
       "      <td>38385</td>\n",
       "      <td>15.12</td>\n",
       "      <td>22.13</td>\n",
       "      <td>0.07</td>\n",
       "    </tr>\n",
       "    <tr>\n",
       "      <th>7</th>\n",
       "      <td>11324</td>\n",
       "      <td>0.72</td>\n",
       "      <td>24.57</td>\n",
       "      <td>4.29</td>\n",
       "    </tr>\n",
       "    <tr>\n",
       "      <th>8</th>\n",
       "      <td>29878</td>\n",
       "      <td>22.36</td>\n",
       "      <td>7.00</td>\n",
       "      <td>14.61</td>\n",
       "    </tr>\n",
       "    <tr>\n",
       "      <th>9</th>\n",
       "      <td>17790</td>\n",
       "      <td>13.12</td>\n",
       "      <td>13.42</td>\n",
       "      <td>5.24</td>\n",
       "    </tr>\n",
       "  </tbody>\n",
       "</table>\n",
       "</div>"
      ],
      "text/plain": [
       "   Zipcode  test_bottle1  test_bottle2  test_bottle3\n",
       "0    25687         12.16          7.15         24.66\n",
       "1    27734         11.73         11.17          9.53\n",
       "2    45253         18.20         11.93         23.46\n",
       "3    23558          7.15         13.49         14.63\n",
       "4    11378          8.91          7.51          2.02\n",
       "5    94490          9.63         12.47          1.74\n",
       "6    38385         15.12         22.13          0.07\n",
       "7    11324          0.72         24.57          4.29\n",
       "8    29878         22.36          7.00         14.61\n",
       "9    17790         13.12         13.42          5.24"
      ]
     },
     "execution_count": 23,
     "metadata": {},
     "output_type": "execute_result"
    }
   ],
   "source": [
    "# here is some test data!\n",
    "data = {\n",
    "    'Zipcode': [25687, 27734, 45253, 23558, 11378, 94490, 38385, 11324, 29878, 17790],\n",
    "    'test_bottle1': [12.16, 11.73, 18.20, 7.15, 8.91, 9.63, 15.12, 0.72, 22.36, 13.12],\n",
    "    'test_bottle2': [7.15, 11.17, 11.93, 13.49, 7.51, 12.47, 22.13, 24.57, 7.00, 13.42],\n",
    "    'test_bottle3': [24.66, 9.53, 23.46, 14.63, 2.02, 1.74, 0.07, 4.29, 14.61, 5.24]\n",
    "}\n",
    "\n",
    "df_for_practice = pd.DataFrame(data)\n",
    "df_for_practice"
   ]
  },
  {
   "cell_type": "code",
   "execution_count": 40,
   "id": "53697eb8-ee2d-40ea-91b0-4077825baa6e",
   "metadata": {},
   "outputs": [],
   "source": [
    "# put your code here"
   ]
  },
  {
   "cell_type": "markdown",
   "id": "6018156f-9f79-4ff3-9645-1b11221982b5",
   "metadata": {},
   "source": [
    "#### &#9989;&nbsp; Task\n",
    "\n",
    "Now, create a new DataFrame (using your mask) that removes any rows **below** 15 and save it as a new variable. Then, display your DataFrame. How do you know your mask worked?"
   ]
  },
  {
   "cell_type": "code",
   "execution_count": 25,
   "id": "b4c5db83-43c9-42e7-9138-053a2a8eabfa",
   "metadata": {},
   "outputs": [
    {
     "name": "stdout",
     "output_type": "stream",
     "text": [
      "   Zipcode  test_bottle1  test_bottle2  test_bottle3\n",
      "2    45253         18.20         11.93         23.46\n",
      "6    38385         15.12         22.13          0.07\n",
      "8    29878         22.36          7.00         14.61\n"
     ]
    }
   ],
   "source": [
    "# put your code here\n",
    "\n",
    "mask = df_for_practice[\"test_bottle1\"] >= 15\n",
    "\n",
    "df_filtered = df_for_practice[mask]\n",
    "\n",
    "print(df_filtered)"
   ]
  },
  {
   "cell_type": "markdown",
   "id": "63365fe4-d8ae-4579-a308-749314d436b8",
   "metadata": {},
   "source": [
    "### 3.2\n",
    "\n",
    "Now, back to our data! \n",
    "\n",
    "#### &#9989;&nbsp; Create a mask and a new dataframe that only contain samples where `PbBottle1_ppb` was greater than the EPA limit."
   ]
  },
  {
   "cell_type": "code",
   "execution_count": 27,
   "id": "ac2a475d-8320-4d40-a023-5697e54eac71",
   "metadata": {},
   "outputs": [
    {
     "name": "stdout",
     "output_type": "stream",
     "text": [
      "   Zipcode  test_bottle1  test_bottle2  test_bottle3\n",
      "2    45253         18.20         11.93         23.46\n",
      "6    38385         15.12         22.13          0.07\n",
      "8    29878         22.36          7.00         14.61\n"
     ]
    }
   ],
   "source": [
    "# Write your code here\n",
    "\n",
    "mask = df_for_practice[\"test_bottle1\"] >= 15\n",
    "df_filtered = df_for_practice[mask]\n",
    "\n",
    "print(df_filtered)\n",
    "#7 greater than the limit\n"
   ]
  },
  {
   "cell_type": "markdown",
   "id": "5218243e-4b8e-47fb-98e2-e7d2782c4243",
   "metadata": {},
   "source": [
    "### 3.3\n",
    "#### &#9989;&nbsp; Answer the following questions: \n",
    "1. How many samples were above the EPA limit? \n",
    "2. What fraction of the total samples does this comprise? "
   ]
  },
  {
   "cell_type": "markdown",
   "id": "79eac5e8-334a-4c73-82b1-02613d88c049",
   "metadata": {},
   "source": [
    "<font size=\"+3\" color=\"green\">&#9998;</font> *Write your answer here*\n",
    "\n",
    "7 above the limit. \n",
    "30 values\n"
   ]
  },
  {
   "cell_type": "markdown",
   "id": "5ff3e50c-863f-4fe2-b3ab-3b5f940c7e50",
   "metadata": {},
   "source": [
    "### 3.4\n",
    "\n",
    "#### &#9989;&nbsp; Based on this analysis, do these samples meet the EPA standards?"
   ]
  },
  {
   "cell_type": "markdown",
   "id": "306970ba-26af-4b4d-92cc-5856cbacb518",
   "metadata": {},
   "source": [
    "<font size=\"+3\" color=\"green\">&#9998;</font> *Write your answer here\n",
    "\n",
    "no 7/30 is more than 10%"
   ]
  },
  {
   "cell_type": "markdown",
   "id": "7e8450ba-9265-4111-af4d-2cd2c3474eb3",
   "metadata": {},
   "source": [
    "---\n",
    "## 4. Extending Analysis to the Other Samples\n",
    "\n",
    "#### &#9989;&nbsp; Repeat the analysis you did parts 1, 2, and 3 for both the `PbBottle2_ppb` and  `PbBottle3_ppb` samples. Recall that these are samples drawn 45 seconds after the taps are turned on (`PbBottle2_ppb`) and two minutes after the taps are turned on (`PbBottle3_ppb`). \n",
    "To complete this section, you should:\n",
    "1. Fill in the table below with descriptive statistics and fraction of samples above the EPA limit.\n",
    "2. Have a three panel plot showing the distribution of samples. The y-axes for each of them should be logarithmic and each plot should have x and y-axes labels and a title.\n",
    "\n",
    "\n",
    "| Sample | Mean | Std. Dev | Min | Median | Max | Fraction > EPA |\n",
    "| :----- | :----- | :------ | :----- | :----- | :----- | :----- |\n",
    "| PbBottle1_ppb | ??| ?? | ??  | ?? | ?? | ?? |\n",
    "| PbBottle2_ppb | ??| ?? | ??  | ?? | ?? | ?? |\n",
    "| PbBottle3_ppb | ??| ?? | ??  | ?? | ?? | ?? |"
   ]
  },
  {
   "cell_type": "code",
   "execution_count": 29,
   "id": "5806d72a-9cb4-4da2-8fc3-c78d5626abe1",
   "metadata": {},
   "outputs": [
    {
     "name": "stdout",
     "output_type": "stream",
     "text": [
      "                    Mean   Std. Dev    Min  Median     Max  Fraction > EPA\n",
      "PbBottle1_ppb  10.658593  21.599817  0.344  3.5025  158.00        0.166667\n",
      "PbBottle2_ppb   6.446704  23.157891  0.032  1.3975  259.80        0.062963\n",
      "PbBottle3_ppb   3.669344  10.557109  0.031  0.8200   94.52        0.044444\n"
     ]
    }
   ],
   "source": [
    "# Write your code here\n",
    "epa_limit = 15\n",
    "\n",
    "# Build summary stats\n",
    "summary = {}\n",
    "for col in [\"PbBottle1_ppb\", \"PbBottle2_ppb\", \"PbBottle3_ppb\"]:\n",
    "    series = flint_data[col].dropna()\n",
    "    summary[col] = {\n",
    "        \"Mean\": series.mean(),\n",
    "        \"Std. Dev\": series.std(),\n",
    "        \"Min\": series.min(),\n",
    "        \"Median\": series.median(),\n",
    "        \"Max\": series.max(),\n",
    "        \"Fraction > EPA\": (series > epa_limit).mean()\n",
    "    }\n",
    "\n",
    "summary_table = pd.DataFrame(summary).T\n",
    "print(summary_table)\n"
   ]
  },
  {
   "cell_type": "markdown",
   "id": "7be22ba4-871f-4fd9-b80f-92088d26360e",
   "metadata": {},
   "source": [
    "## 5. Conclusions\n",
    "\n",
    "#### &#9989;&nbsp; Based on your new analysis, answer the following question: ***Would you feel comfortable drinking a glass of water in Flint at the height of the water crisis?*** \n",
    "\n",
    "**Use statistical values and/or data visualizations to back up your choice.**"
   ]
  },
  {
   "cell_type": "markdown",
   "id": "73f4bf51-8601-4a51-b964-2e6b87635316",
   "metadata": {},
   "source": [
    "<font size=\"+3\" color=\"green\">&#9998;</font> *Write your answer here\n",
    "\n",
    "\n",
    "maybe it is safe for 2/3 of the samples"
   ]
  },
  {
   "cell_type": "markdown",
   "id": "a74d6169-f835-4573-afd8-2f83f1c6b9ff",
   "metadata": {},
   "source": [
    "## 6. (Time Permitting) Looking for Other Sources of Analysis\n",
    "\n",
    "For your project, it will be good to draw upon other resources to compare your results/conclusions to. \n",
    "\n",
    "Go through the [following article from the New York Times](https://www.nytimes.com/2018/07/22/opinion/flint-lead-poisoning-water.html) and compare it's conclusions to your own from Part 5. Given the information in this article, ***Would you feel comfortable drinking a glass of water in Flint at the height of the water criss?*** \n",
    "\n",
    "\n",
    "**NOTE:** If you are an MSU student, you have access to a free New York Times account. [Click this link](https://asmsu.msu.edu/home/services/717-2/) and follow the steps to get access through MSU. "
   ]
  },
  {
   "cell_type": "markdown",
   "id": "3fee15c5-bc01-4149-b2c5-fa9454be8f06",
   "metadata": {},
   "source": [
    "<font size=\"+3\" color=\"green\">&#9998;</font> *Write your answer here*\n",
    "\n",
    "Still not they say the water isn't dangerous but it's still a lot more dangerous then usual"
   ]
  },
  {
   "cell_type": "markdown",
   "id": "c6e9dc57-fd17-433c-be82-03370c20c9a7",
   "metadata": {},
   "source": [
    "---\n",
    "## Assignment wrapup\n",
    "\n",
    "Please fill out the form that appears when you run the code below. **You must completely fill this out in order to receive credit for the assignment!** "
   ]
  },
  {
   "cell_type": "code",
   "execution_count": 30,
   "id": "8673a369-5d7b-418c-b289-4ffb483517f5",
   "metadata": {},
   "outputs": [
    {
     "data": {
      "text/html": [
       "\n",
       "<iframe \n",
       "\tsrc=\"https://cmse.msu.edu/cmse201-ic-survey\" \n",
       "\twidth=\"800px\" \n",
       "\theight=\"600px\" \n",
       "\tframeborder=\"0\" \n",
       "\tmarginheight=\"0\" \n",
       "\tmarginwidth=\"0\">\n",
       "\tLoading...\n",
       "</iframe>\n"
      ],
      "text/plain": [
       "<IPython.core.display.HTML object>"
      ]
     },
     "execution_count": 30,
     "metadata": {},
     "output_type": "execute_result"
    }
   ],
   "source": [
    "from IPython.display import HTML\n",
    "HTML(\n",
    "\"\"\"\n",
    "<iframe \n",
    "\tsrc=\"https://cmse.msu.edu/cmse201-ic-survey\" \n",
    "\twidth=\"800px\" \n",
    "\theight=\"600px\" \n",
    "\tframeborder=\"0\" \n",
    "\tmarginheight=\"0\" \n",
    "\tmarginwidth=\"0\">\n",
    "\tLoading...\n",
    "</iframe>\n",
    "\"\"\"\n",
    ")"
   ]
  },
  {
   "cell_type": "markdown",
   "id": "9198e947-95cb-4ee3-98d6-c1cacf318f91",
   "metadata": {},
   "source": [
    "---\n",
    "\n",
    "## Congratulations, you're done!\n",
    "\n",
    "Submit this assignment by uploading your notebook to the course Desire2Learn web page.  Go to the \"In-Class Assignments\" folder, find the appropriate submission link, and upload everything there. Make sure your name is on it!"
   ]
  },
  {
   "cell_type": "markdown",
   "id": "03819570-8d73-4c7a-8e74-a831f934f0b6",
   "metadata": {},
   "source": [
    "&#169; Copyright 2024,  The Department of Computational Mathematics, Science and Engineering at Michigan State University"
   ]
  }
 ],
 "metadata": {
  "kernelspec": {
   "display_name": "Python 3.12 (default)",
   "language": "python",
   "name": "python3"
  },
  "language_info": {
   "codemirror_mode": {
    "name": "ipython",
    "version": 3
   },
   "file_extension": ".py",
   "mimetype": "text/x-python",
   "name": "python",
   "nbconvert_exporter": "python",
   "pygments_lexer": "ipython3",
   "version": "3.12.11"
  }
 },
 "nbformat": 4,
 "nbformat_minor": 5
}
